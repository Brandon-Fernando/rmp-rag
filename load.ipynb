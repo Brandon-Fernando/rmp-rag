{
 "cells": [
  {
   "cell_type": "code",
   "execution_count": 38,
   "metadata": {},
   "outputs": [
    {
     "data": {
      "text/plain": [
       "True"
      ]
     },
     "execution_count": 38,
     "metadata": {},
     "output_type": "execute_result"
    }
   ],
   "source": [
    "from pinecone import Pinecone, ServerlessSpec\n",
    "import os \n",
    "import json\n",
    "import requests\n",
    "from bs4 import BeautifulSoup\n",
    "from dotenv import load_dotenv\n",
    "from openai import OpenAI\n",
    "\n",
    "load_dotenv()\n"
   ]
  },
  {
   "cell_type": "code",
   "execution_count": 40,
   "metadata": {},
   "outputs": [],
   "source": [
    "#initialize openai client\n",
    "client = OpenAI()\n",
    "\n",
    "#initialize pinecone\n",
    "pc = Pinecone(api_key=os.getenv(\"PINECONE_API_KEY\"))\n",
    "pc.create_index(\n",
    "    name=\"rag\", dimension=1536, metric=\"cosine\", spec=ServerlessSpec(cloud=\"aws\", region=\"us-east-1\")\n",
    ")"
   ]
  },
  {
   "cell_type": "code",
   "execution_count": 107,
   "metadata": {},
   "outputs": [],
   "source": [
    "\n",
    "def scrapeReviews(profLink):\n",
    "    response = requests.get(profLink)\n",
    "    soup = BeautifulSoup(response.content, 'html.parser')\n",
    "\n",
    "    profReviews = []\n",
    "    studentReviews = []\n",
    "    professor_fname = soup.find('div', class_='NameTitle__Name-dowf0z-0 cfjPUG').text.strip()\n",
    "    professor_lname = soup.find('span', class_='NameTitle__LastNameWrapper-dowf0z-2 glXOHH').text.strip()\n",
    "    prof_name = professor_fname + \" \" + professor_lname\n",
    "    rating = soup.find('div', class_='RatingValue__Numerator-qw8sqy-2 liyUjw').text.strip()\n",
    "\n",
    "    for review in soup.find_all('div', class_='FeedbackItem__StyledFeedbackItem-uof32n-0 dTFbKx'):\n",
    "        difficulty = review.find('div', class_='FeedbackItem__FeedbackNumber-uof32n-1 kkESWs').text.strip()\n",
    "\n",
    "    for review in soup.find_all('div', class_='NameTitle__Title-dowf0z-1 iLYGwn'):\n",
    "        subject = review.find('a', class_='TeacherDepartment__StyledDepartmentLink-fl79e8-0 iMmVHb').text.strip()\n",
    "   \n",
    "    for review in soup.find_all('div', class_='Rating__RatingBody-sc-1rhvpxz-0 dGrvXb'):\n",
    "        review_text = review.find('div', class_='Comments__StyledComments-dzzyvm-0 gRjWel').text.strip()\n",
    "        studentReviews.append(review_text)\n",
    "\n",
    "    \n",
    "    formatted_reviews = {\n",
    "        \"professor\": prof_name,\n",
    "        \"subject-department\": subject,\n",
    "        \"rating\": rating,\n",
    "        \"difficulty\": difficulty,\n",
    "        \"student_reviews\": studentReviews\n",
    "    }\n",
    "\n",
    "    profReviews = [formatted_reviews]\n",
    "    \n",
    "    return profReviews\n"
   ]
  },
  {
   "cell_type": "code",
   "execution_count": 117,
   "metadata": {},
   "outputs": [
    {
     "data": {
      "text/plain": [
       "[{'professor': 'Christina Chung',\n",
       "  'subject-department': 'Gender, Women, & Sexuality Studies department',\n",
       "  'rating': '5',\n",
       "  'difficulty': '2.5',\n",
       "  'student_reviews': [\"Christina is absolutely amazing, and one of the best teachers I've had at UW! She is knowledgable, funny, kind, and made our classes a safe and positive place. There is not too much work other than a final group project, but there are a fair amount of readings. 10/10 recommend!\",\n",
       "   'Professor Chung is amazing! I loved having her for GWSS 200 so I had to take her other course. There are weekly discussions and lectures. In-Class days are mandatory for discussion. There is 1 group project. She breaks down terms and really wants everyone to dive deep into the work.']}]"
      ]
     },
     "execution_count": 117,
     "metadata": {},
     "output_type": "execute_result"
    }
   ],
   "source": [
    "x = scrapeReviews(\"https://www.ratemyprofessors.com/professor/2692312\")\n",
    "x"
   ]
  },
  {
   "cell_type": "code",
   "execution_count": 108,
   "metadata": {},
   "outputs": [],
   "source": [
    "\n",
    "def addReviews(reviews, json_file='reviews.json'):\n",
    "    try:\n",
    "        # Try to read the existing data\n",
    "        with open(json_file, 'r') as file:\n",
    "            data = json.load(file)\n",
    "    except FileNotFoundError:\n",
    "        # If the file doesn't exist, initialize with an empty reviews list\n",
    "        data = {'reviews': []}\n",
    "    except json.JSONDecodeError:\n",
    "        # Handle case where file is empty or corrupted\n",
    "        data = {'reviews': []}\n",
    "    \n",
    "    # Append new reviews to the data\n",
    "    data['reviews'].extend(reviews)\n",
    "    \n",
    "    # Write updated data back to the file\n",
    "    with open(json_file, 'w') as file:\n",
    "        json.dump(data, file, indent=4)"
   ]
  },
  {
   "cell_type": "code",
   "execution_count": 109,
   "metadata": {},
   "outputs": [],
   "source": [
    "x = scrapeReviews('https://www.ratemyprofessors.com/professor/936759')\n",
    "addReviews(x)"
   ]
  },
  {
   "cell_type": "code",
   "execution_count": 110,
   "metadata": {},
   "outputs": [
    {
     "data": {
      "text/plain": [
       "[{'professor': 'Fernando Fernandez',\n",
       "  'subject-department': 'Psychology department',\n",
       "  'rating': '4.5',\n",
       "  'difficulty': '1.5',\n",
       "  'student_reviews': ['He really enjoys what he teaches.  Awesome teacher.  Lets you use 8 1/2 X 11 sheet of notes for exams.  Learned alot in his class.',\n",
       "   'Super easy class! Awesome professor. I loved his class.',\n",
       "   'great professor!  Definitely take him for a psychology class.  He is easy to understand.  Make sure to read the book as you have to take a midterm and a cumulative final.  Pay attention to the chapter objectives that he gives you and remember to participate by sending in videos and commenting on blackboard when something is posted.',\n",
       "   'Best professor! Cares about his students! Class was fun and interesting. He really tries to connect with students, and assigns were so much fun! Lets you use a cheat sheet for exams. He is awesome!',\n",
       "   \"Such a great professor. Really wants you to succeed. Extremely helpful and willing to go the extra mile. Take him if you can!! There is no way you can't pass this class unless you decide not to go.\",\n",
       "   'Lectures seemed pointless but he is really passionate. We take quizzes for each chapter but not graded. Exams are based off objectives he posts online and he allows a full page of notes to be used for every exam. Big 5-10 paper due at the end. Syllabus does not cover his grading scale or total  points in class. Very ambiguous about grades.',\n",
       "   'Wonderful professor, easy to understand, loved the class. Learned very much',\n",
       "   \"Psychology is my major and this course is a pre-req. for it. I don't think I would have taken the class otherwise. Nice guy, definitely, but it kind of feels like going to class is a waste of time. I did well in the class because I love psychology and had an amazing teacher in high school. If you read the book you should be fine. Easy A.\",\n",
       "   \"Couldnt ask for a nicer guy. And an easier grader! Turn in your work and get full points. Very flexible, he was sick a lot this semester and cancelled about 4 classes. His lectures are kind of irrelevent, but he gives the test answers to you and allows an 8'11'' sheet of paper for notes. Recommend for good teacher and good grade!!\",\n",
       "   \"This class is so boring. The lectures are useless. All you have to do is read the book and use the page of notes for the tests. He never takes attendance so you don't even need to go because it is soooo boring.\",\n",
       "   'This class was fairly easy just three m/c exams (allowed to have a sheet of notes front and back) and one 5-8 page research paper.  However the class was so dull I became lazy (got an 84). Professor Fernandez is a nice guy but I felt like the lectures were a waste of time. I could of just gone to class on exam days and gotten the same exact grade.',\n",
       "   'VERY easy class. Just be sure to read each chapter for the quizzes. Essays are all your own opinions and thoughts. Midterm was allowed a page of notes. Class could be a bit boring at times as some of the topics are just common sense, but can really question what you think you know about yourself and others.',\n",
       "   'Cares alot about the students. Makes the students learn while making the class easy, very easy to get an A if you do objectives and go to class. Higly recommended!',\n",
       "   'He cares about the students. He is fun, interesting and would recommend him. His class is easy, read the book and do the objectives so you can get something out of the class. Overall good teacher.',\n",
       "   \"VERY EASY! Open book exams! Boring class don't really lecture (lots of movies, remind me of high school). I didn't learn anything in his class. He required a paper to be written. He's calm and cool! Great person but sucky teacher.\"]}]"
      ]
     },
     "execution_count": 110,
     "metadata": {},
     "output_type": "execute_result"
    }
   ],
   "source": [
    "data = json.load(open(\"reviews.json\"))\n",
    "data['reviews']"
   ]
  },
  {
   "cell_type": "code",
   "execution_count": 111,
   "metadata": {},
   "outputs": [],
   "source": [
    "processed_data = []\n",
    "client = OpenAI()\n",
    "\n",
    "for review in data['reviews']:\n",
    "    response = client.embeddings.create(\n",
    "        input = review['student_reviews'], \n",
    "        model=\"text-embedding-3-small\",\n",
    "    )\n",
    "    embedding = response.data[0].embedding\n",
    "    processed_data.append({\n",
    "        \"values\": embedding, \n",
    "        \"id\": review [\"professor\"], \n",
    "        \"metadata\": {\n",
    "            \"subject-department\": review[\"subject-department\"],\n",
    "            \"rating\": review[\"rating\"],\n",
    "            \"difficulty\": review[\"difficulty\"],\n",
    "            \"student_reviews\": review[\"student_reviews\"]\n",
    "        }\n",
    "    })"
   ]
  },
  {
   "cell_type": "code",
   "execution_count": 112,
   "metadata": {},
   "outputs": [
    {
     "data": {
      "text/plain": [
       "{'upserted_count': 1}"
      ]
     },
     "execution_count": 112,
     "metadata": {},
     "output_type": "execute_result"
    }
   ],
   "source": [
    "index = pc.Index('rag')\n",
    "index.upsert(\n",
    "    vectors=processed_data, \n",
    "    namespace=\"ns1\"\n",
    ")"
   ]
  },
  {
   "cell_type": "code",
   "execution_count": 113,
   "metadata": {},
   "outputs": [
    {
     "data": {
      "text/plain": [
       "{'dimension': 1536,\n",
       " 'index_fullness': 0.0,\n",
       " 'namespaces': {'ns1': {'vector_count': 16}},\n",
       " 'total_vector_count': 16}"
      ]
     },
     "execution_count": 113,
     "metadata": {},
     "output_type": "execute_result"
    }
   ],
   "source": [
    "index.describe_index_stats()"
   ]
  },
  {
   "cell_type": "markdown",
   "metadata": {},
   "source": []
  }
 ],
 "metadata": {
  "kernelspec": {
   "display_name": "Python 3.10.4 ('rag')",
   "language": "python",
   "name": "python3"
  },
  "language_info": {
   "codemirror_mode": {
    "name": "ipython",
    "version": 3
   },
   "file_extension": ".py",
   "mimetype": "text/x-python",
   "name": "python",
   "nbconvert_exporter": "python",
   "pygments_lexer": "ipython3",
   "version": "3.10.14"
  },
  "orig_nbformat": 4,
  "vscode": {
   "interpreter": {
    "hash": "ea92aa261ef550a218fa80bf24d0923f8ca2f841df9d453457f8b616e5b9517a"
   }
  }
 },
 "nbformat": 4,
 "nbformat_minor": 2
}
